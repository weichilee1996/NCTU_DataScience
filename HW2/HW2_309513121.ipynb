{
 "cells": [
  {
   "cell_type": "code",
   "execution_count": 23,
   "metadata": {},
   "outputs": [],
   "source": [
    "import pandas as pd\n",
    "import csv\n",
    "import re\n",
    "import numpy as np\n",
    "import os\n",
    "import random\n",
    "from gensim.models import word2vec\n",
    "from keras.models import Sequential\n",
    "from keras.layers import Dense, Dropout, Activation, Flatten, LSTM, TimeDistributed, RepeatVector\n",
    "from keras.layers.normalization import BatchNormalization\n",
    "from keras.optimizers import Adam\n",
    "from keras.callbacks import EarlyStopping, ModelCheckpoint\n",
    "import sys"
   ]
  },
  {
   "cell_type": "code",
   "execution_count": 24,
   "metadata": {},
   "outputs": [],
   "source": [
    "vector_num = 20\n",
    "size = 100"
   ]
  },
  {
   "cell_type": "code",
   "execution_count": 25,
   "metadata": {},
   "outputs": [],
   "source": [
    "df_train = pd.read_csv('./train.csv')  \n",
    "#print(df_train)  "
   ]
  },
  {
   "cell_type": "code",
   "execution_count": 26,
   "metadata": {},
   "outputs": [],
   "source": [
    "df_test = pd.read_csv('./test.csv')  \n",
    "#print(df_test) "
   ]
  },
  {
   "cell_type": "code",
   "execution_count": 27,
   "metadata": {},
   "outputs": [],
   "source": [
    "#train data\n",
    "train_data = []\n",
    "train_label = []\n",
    "for i in range(0,len(df_train)):\n",
    "    train_data.append(df_train.iloc[i,1])\n",
    "    train_label.append(df_train.iloc[i,3])\n",
    "#print(len(train_data))\n",
    "#print(len(train_label))\n",
    "train_label = np.array(train_label)\n",
    "train_label = np.reshape(train_label,(2040,1))\n",
    "#print(train_label)"
   ]
  },
  {
   "cell_type": "code",
   "execution_count": 28,
   "metadata": {},
   "outputs": [],
   "source": [
    "#test data\n",
    "test_data = []\n",
    "for i in range(0,len(df_test)):\n",
    "    test_data.append(df_test.iloc[i,1])\n",
    "#print((test_data))"
   ]
  },
  {
   "cell_type": "code",
   "execution_count": 29,
   "metadata": {},
   "outputs": [],
   "source": [
    "#以空格切句子為單字\n",
    "#刪去一些標點符號\n",
    "train_seq=[]\n",
    "test_seq = []\n",
    "for i in train_data:\n",
    "    a1 = re.sub('[?]', '', i)\n",
    "    a2 = re.sub('[.]', '', a1)\n",
    "    a3 = re.sub('[;]', '', a2)\n",
    "    a4 = re.sub('[:]', '', a3)\n",
    "    a5 = re.sub('[-]', '', a4)\n",
    "    a6 = re.sub('[!]', '', a5)\n",
    "    a7 = re.sub('[(]', '', a6)\n",
    "    a8 = re.sub('[)]', '', a7)\n",
    "    a = re.sub('[,]', '', a8)\n",
    "    #print(i)\n",
    "    a = a.split()\n",
    "    #temp.append(a)\n",
    "    train_seq.append(a)\n",
    "#print((train_seq[0][3]))\n",
    "\n",
    "for i in test_data:\n",
    "    a1 = re.sub('[?]', '', i)\n",
    "    a2 = re.sub('[.]', '', a1)\n",
    "    a3 = re.sub('[;]', '', a2)\n",
    "    a4 = re.sub('[:]', '', a3)\n",
    "    a5 = re.sub('[-]', '', a4)\n",
    "    a6 = re.sub('[!]', '', a5)\n",
    "    a7 = re.sub('[(]', '', a6)\n",
    "    a8 = re.sub('[)]', '', a7)\n",
    "    a = re.sub('[,]', '', a8)\n",
    "    #print(i)\n",
    "    a = a.split()\n",
    "    test_seq.append(a)\n",
    "\n",
    "#print((test_seq))"
   ]
  },
  {
   "cell_type": "code",
   "execution_count": 30,
   "metadata": {},
   "outputs": [],
   "source": [
    "f = open('train_seq.txt','a+')\n",
    "for i in train_seq:\n",
    "    for j in i:\n",
    "        print(j, file = f)"
   ]
  },
  {
   "cell_type": "code",
   "execution_count": 31,
   "metadata": {},
   "outputs": [],
   "source": [
    "f = open('test_seq.txt','a+')\n",
    "for i in test_seq:\n",
    "    for j in i:\n",
    "        print(j, file = f)"
   ]
  },
  {
   "cell_type": "code",
   "execution_count": 32,
   "metadata": {},
   "outputs": [],
   "source": [
    "sentences = word2vec.Text8Corpus('./train_seq.txt')\n",
    "model_train = word2vec.Word2Vec(sentences, sg=1, size=size,  window=5,  min_count=5,  negative=3, sample=0.001, hs=1, workers=4)\n",
    "#model.save('./train_model.txt')\n",
    "#print(model)"
   ]
  },
  {
   "cell_type": "code",
   "execution_count": 33,
   "metadata": {},
   "outputs": [],
   "source": [
    "sentences_test = word2vec.Text8Corpus('./test_seq.txt')\n",
    "model_test = word2vec.Word2Vec(sentences_test, sg=1, size=size,  window=5,  min_count=5,  negative=3, sample=0.001, hs=1, workers=4)\n"
   ]
  },
  {
   "cell_type": "code",
   "execution_count": 34,
   "metadata": {},
   "outputs": [
    {
     "name": "stderr",
     "output_type": "stream",
     "text": [
      "/opt/conda/lib/python3.7/site-packages/ipykernel_launcher.py:6: DeprecationWarning: Call to deprecated `__contains__` (Method will be removed in 4.0.0, use self.wv.__contains__() instead).\n",
      "  \n",
      "/opt/conda/lib/python3.7/site-packages/ipykernel_launcher.py:7: DeprecationWarning: Call to deprecated `__getitem__` (Method will be removed in 4.0.0, use self.wv.__getitem__() instead).\n",
      "  import sys\n",
      "/opt/conda/lib/python3.7/site-packages/ipykernel_launcher.py:9: DeprecationWarning: Call to deprecated `__contains__` (Method will be removed in 4.0.0, use self.wv.__contains__() instead).\n",
      "  if __name__ == '__main__':\n"
     ]
    }
   ],
   "source": [
    "train_vector = []\n",
    "for sentence in train_seq:\n",
    "    #print(sentence)\n",
    "    temp = []\n",
    "    for vocab in sentence:\n",
    "        if vocab.lower() in model_train:\n",
    "            a = model_train[vocab.lower()]\n",
    "            temp.append(a)\n",
    "        elif vocab.lower() not in model_train:\n",
    "            continue\n",
    "    train_vector.append(temp)\n",
    "    #print(len(temp))\n",
    "#print((train_vector[0][5][34]))"
   ]
  },
  {
   "cell_type": "code",
   "execution_count": 35,
   "metadata": {},
   "outputs": [
    {
     "name": "stderr",
     "output_type": "stream",
     "text": [
      "/opt/conda/lib/python3.7/site-packages/ipykernel_launcher.py:6: DeprecationWarning: Call to deprecated `__contains__` (Method will be removed in 4.0.0, use self.wv.__contains__() instead).\n",
      "  \n",
      "/opt/conda/lib/python3.7/site-packages/ipykernel_launcher.py:10: DeprecationWarning: Call to deprecated `__contains__` (Method will be removed in 4.0.0, use self.wv.__contains__() instead).\n",
      "  # Remove the CWD from sys.path while we load stuff.\n",
      "/opt/conda/lib/python3.7/site-packages/ipykernel_launcher.py:7: DeprecationWarning: Call to deprecated `__getitem__` (Method will be removed in 4.0.0, use self.wv.__getitem__() instead).\n",
      "  import sys\n"
     ]
    },
    {
     "data": {
      "text/plain": [
       "'for i in range(0,len(test_vector)):    \\n    print(len(test_vector[i]))'"
      ]
     },
     "execution_count": 35,
     "metadata": {},
     "output_type": "execute_result"
    }
   ],
   "source": [
    "test_vector = []\n",
    "for sentence in test_seq:\n",
    "    #print(sentence)\n",
    "    temp = []\n",
    "    for vocab in sentence:\n",
    "        if vocab.lower() in model_test:\n",
    "            a = model_test[vocab.lower()]\n",
    "            #print(a)\n",
    "            temp.append(a)\n",
    "        elif vocab.lower() not in model_test:\n",
    "            temp.append(np.zeros((size)))\n",
    "            continue\n",
    "    test_vector.append(temp)\n",
    "\"\"\"for i in range(0,len(test_vector)):    \n",
    "    print(len(test_vector[i]))\"\"\""
   ]
  },
  {
   "cell_type": "code",
   "execution_count": 36,
   "metadata": {},
   "outputs": [],
   "source": [
    "#選擇每個句子取的vector數\n",
    "train_vector_final = []\n",
    "test_vector_final = []\n",
    "for i in train_vector:\n",
    "    #print(i)\n",
    "    if len(i) > vector_num:\n",
    "        train_vector_final.append(i[0:vector_num])\n",
    "    elif len(i) < vector_num:\n",
    "        a = np.vstack((i, np.zeros((vector_num-len(i),size))))\n",
    "        #print(len(a))\n",
    "        train_vector_final.append(a)\n",
    "    else:\n",
    "        train_vector_final.append(i[0:vector_num])\n",
    "#print((train_vector_final[0:10]))\n",
    "\n",
    "\n",
    "for i in test_vector:\n",
    "    #print(len(test_vector))\n",
    "    #print(len(i[6]))\n",
    "    if len(i) > vector_num:\n",
    "        test_vector_final.append(i[0:vector_num])\n",
    "    elif len(i) < vector_num:\n",
    "        #print(len(i),vector_num - len(i))\n",
    "        #print(i)\n",
    "        #print(np.zeros((vector_num-len(i),size)))\n",
    "        b = np.vstack((i,np.zeros((vector_num-len(i),size))))\n",
    "        #print(len(a))\n",
    "        test_vector_final.append(b)\n",
    "    else:\n",
    "        test_vector_final.append(i[0:vector_num])\n",
    "#print(len(test_vector_final[7]))\n",
    "\n",
    "train_vector_final = np.array(train_vector_final)\n",
    "\n",
    "#train_vector_final = np.reshape(train_vector_final,(2040,15))\n",
    "test_vector_final = np.array(test_vector_final)"
   ]
  },
  {
   "cell_type": "code",
   "execution_count": 37,
   "metadata": {},
   "outputs": [],
   "source": [
    "#lstm 開始\n",
    "\n",
    "def buildManyToOneModel(shape):\n",
    "    model = Sequential()\n",
    "    model.add(LSTM(size ,input_length = vector_num ,input_dim = size))\n",
    "    model.add(Dropout(0.5))\n",
    "    # output shape: (1, 1)\n",
    "    model.add(Dense(10))\n",
    "    model.add(Dense(1))\n",
    "    model.compile(loss=\"mse\", optimizer=\"adam\")\n",
    "    model.summary()\n",
    "    return model"
   ]
  },
  {
   "cell_type": "code",
   "execution_count": 38,
   "metadata": {},
   "outputs": [],
   "source": [
    "def shuffle(X,Y):\n",
    "    np.random.seed(10)\n",
    "    X = np.array(X)\n",
    "    Y = np.array(Y)\n",
    "    randomList = np.arange(X.shape[0])\n",
    "    np.random.shuffle(randomList)\n",
    "    return X[randomList], Y[randomList]"
   ]
  },
  {
   "cell_type": "code",
   "execution_count": 39,
   "metadata": {},
   "outputs": [],
   "source": [
    "def splitData(X,Y,rate):\n",
    "    X_train = X[int(X.shape[0]*rate):]\n",
    "    Y_train = Y[int(Y.shape[0]*rate):]\n",
    "    X_val = X[:int(X.shape[0]*rate)]\n",
    "    Y_val = Y[:int(Y.shape[0]*rate)]\n",
    "    return X_train, Y_train, X_val, Y_val"
   ]
  },
  {
   "cell_type": "code",
   "execution_count": null,
   "metadata": {},
   "outputs": [
    {
     "name": "stdout",
     "output_type": "stream",
     "text": [
      "Model: \"sequential_1\"\n",
      "_________________________________________________________________\n",
      "Layer (type)                 Output Shape              Param #   \n",
      "=================================================================\n",
      "lstm_1 (LSTM)                (None, 100)               80400     \n",
      "_________________________________________________________________\n",
      "dropout_1 (Dropout)          (None, 100)               0         \n",
      "_________________________________________________________________\n",
      "dense_2 (Dense)              (None, 10)                1010      \n",
      "_________________________________________________________________\n",
      "dense_3 (Dense)              (None, 1)                 11        \n",
      "=================================================================\n",
      "Total params: 81,421\n",
      "Trainable params: 81,421\n",
      "Non-trainable params: 0\n",
      "_________________________________________________________________\n",
      "Epoch 1/7\n",
      "1836/1836 [==============================] - 10s 5ms/step - loss: 0.7973 - val_loss: 0.5268\n",
      "Epoch 2/7\n",
      "1053/1836 [================>.............] - ETA: 3s - loss: 0.7043"
     ]
    }
   ],
   "source": [
    "X_train, Y_train = train_vector_final,train_label\n",
    "X_train, Y_train = shuffle(X_train, Y_train)\n",
    "# because no return sequence, Y_train and Y_val shape must be 2 dimension\n",
    "X_train, Y_train, X_val, Y_val = splitData(X_train, Y_train, 0.1)\n",
    "#print(len(X_train))\n",
    "X_train = np.array(X_train)\n",
    "Y_train = np.array(Y_train)\n",
    "X_val = np.array(X_val)\n",
    "Y_val = np.array(Y_val)\n",
    "model = buildManyToOneModel(X_train)\n",
    "#model.add(Dropout(0.2))\n",
    "callback = EarlyStopping(monitor=\"loss\", patience=10, verbose=1, mode=\"auto\")\n",
    "model.fit(X_train, Y_train, epochs=7, batch_size=1, validation_data=(X_val, Y_val), callbacks=[callback])\n"
   ]
  },
  {
   "cell_type": "code",
   "execution_count": null,
   "metadata": {},
   "outputs": [],
   "source": [
    "model.save('309513121_model.h5') "
   ]
  },
  {
   "cell_type": "code",
   "execution_count": null,
   "metadata": {},
   "outputs": [],
   "source": [
    "x_test = test_vector_final\n",
    "result = model.predict(x_test)\n",
    "print(result)\n"
   ]
  },
  {
   "cell_type": "code",
   "execution_count": null,
   "metadata": {},
   "outputs": [],
   "source": [
    "with open('309513121_predict.csv', 'w', newline='') as csvfile:\n",
    "  # 建立 CSV 檔寫入器\n",
    "    writer = csv.writer(csvfile)\n",
    "    writer.writerow(['ID','Label'])\n",
    "    for i in range(0,len(result)):\n",
    "        a1 = re.sub('[[]', '', str(result[i]))\n",
    "        a2 = re.sub('[]]', '', a1)\n",
    "        writer = csv.writer(csvfile)\n",
    "        writer.writerow([i+1,a2])\n"
   ]
  },
  {
   "cell_type": "code",
   "execution_count": null,
   "metadata": {},
   "outputs": [],
   "source": [
    "a = sys.argv[0]"
   ]
  }
 ],
 "metadata": {
  "kernelspec": {
   "display_name": "Python 3",
   "language": "python",
   "name": "python3"
  },
  "language_info": {
   "codemirror_mode": {
    "name": "ipython",
    "version": 3
   },
   "file_extension": ".py",
   "mimetype": "text/x-python",
   "name": "python",
   "nbconvert_exporter": "python",
   "pygments_lexer": "ipython3",
   "version": "3.7.7"
  }
 },
 "nbformat": 4,
 "nbformat_minor": 4
}
